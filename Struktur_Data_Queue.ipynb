{
  "nbformat": 4,
  "nbformat_minor": 0,
  "metadata": {
    "colab": {
      "name": "Struktur Data - Queue.ipynb",
      "provenance": [],
      "authorship_tag": "ABX9TyPaG41BUqWYuIuO82oK6vBb",
      "include_colab_link": true
    },
    "kernelspec": {
      "name": "python3",
      "display_name": "Python 3"
    },
    "language_info": {
      "name": "python"
    }
  },
  "cells": [
    {
      "cell_type": "markdown",
      "metadata": {
        "id": "view-in-github",
        "colab_type": "text"
      },
      "source": [
        "<a href=\"https://colab.research.google.com/github/fridymandita/Struktur-Data/blob/main/Struktur_Data_Queue.ipynb\" target=\"_parent\"><img src=\"https://colab.research.google.com/assets/colab-badge.svg\" alt=\"Open In Colab\"/></a>"
      ]
    },
    {
      "cell_type": "code",
      "execution_count": null,
      "metadata": {
        "id": "y4KkJ5h7vER8",
        "colab": {
          "base_uri": "https://localhost:8080/"
        },
        "outputId": "38626e1d-1ba9-409e-cb6c-1ad8ce17007f"
      },
      "outputs": [
        {
          "output_type": "stream",
          "name": "stdout",
          "text": [
            "Initial queue\n",
            "['a', 'b', 'c']\n",
            "\n",
            "Elements dequeued from queue\n",
            "a\n",
            "b\n",
            "c\n",
            "\n",
            "Queue after removing elements\n",
            "[]\n"
          ]
        }
      ],
      "source": [
        "queue = []\n",
        " \n",
        "# Adding elements to the queue\n",
        "queue.append('a')\n",
        "queue.append('b')\n",
        "queue.append('c')\n",
        " \n",
        "print(\"Initial queue\")\n",
        "print(queue)\n",
        " \n",
        "# Removing elements from the queue\n",
        "print(\"\\nElements dequeued from queue\")\n",
        "print(queue.pop(0))\n",
        "print(queue.pop(0))\n",
        "print(queue.pop(0))\n",
        " \n",
        "print(\"\\nQueue after removing elements\")\n",
        "print(queue)"
      ]
    },
    {
      "cell_type": "code",
      "source": [
        "# Python program to\n",
        "# demonstrate queue implementation\n",
        "# using collections.dequeue\n",
        "\n",
        "\n",
        "from collections import deque\n",
        "\n",
        "# Initializing a queue\n",
        "q = deque()\n",
        "\n",
        "# Adding elements to a queue\n",
        "q.append('a')\n",
        "q.append('b')\n",
        "q.append('c')\n",
        "\n",
        "print(\"Initial queue\")\n",
        "print(q)\n",
        "\n",
        "# Removing elements from a queue\n",
        "print(\"\\nElements dequeued from the queue\")\n",
        "print(q.popleft())\n",
        "print(q.popleft())\n",
        "print(q.popleft())\n",
        "\n",
        "print(\"\\nQueue after removing elements\")\n",
        "print(q)\n",
        "\n",
        "# Uncommenting q.popleft()\n",
        "# will raise an IndexError\n",
        "# as queue is now empty\n"
      ],
      "metadata": {
        "colab": {
          "base_uri": "https://localhost:8080/"
        },
        "id": "SyXMOBNGwM1N",
        "outputId": "59286d5d-9e5a-4519-b804-ddceca195a9c"
      },
      "execution_count": null,
      "outputs": [
        {
          "output_type": "stream",
          "name": "stdout",
          "text": [
            "Initial queue\n",
            "deque(['a', 'b', 'c'])\n",
            "\n",
            "Elements dequeued from the queue\n",
            "a\n",
            "b\n",
            "c\n",
            "\n",
            "Queue after removing elements\n",
            "deque([])\n"
          ]
        }
      ]
    },
    {
      "cell_type": "code",
      "source": [
        "# Python program to\n",
        "# demonstrate implementation of\n",
        "# queue using queue module\n",
        "\n",
        "\n",
        "from queue import Queue\n",
        "\n",
        "# Initializing a queue\n",
        "q = Queue(maxsize = 5)\n",
        "\n",
        "# qsize() give the maxsize\n",
        "# of the Queue\n",
        "print(q.qsize())\n",
        "\n",
        "# Adding of element to queue\n",
        "q.put('a')\n",
        "q.put('b')\n",
        "q.put('c')\n",
        "q.put('d')\n",
        "\n",
        "\n",
        "# Return Boolean for Full\n",
        "# Queue\n",
        "print(\"\\nFull: \", q.full())\n",
        "\n",
        "# Removing element from queue\n",
        "print(\"\\nElements dequeued from the queue\")\n",
        "print(q.get())\n",
        "print(q.get())\n",
        "print(q.get())\n",
        "print(q.get())\n",
        "\n",
        "# Return Boolean for Empty\n",
        "# Queue\n",
        "print(\"\\nEmpty: \", q.empty())\n",
        "\n",
        "#q.put(1)\n",
        "#print(\"\\nEmpty: \", q.empty())\n",
        "#print(\"Full: \", q.full())\n",
        "\n",
        "# This would result into Infinite\n",
        "# Loop as the Queue is empty.\n",
        "# print(q.get())\n"
      ],
      "metadata": {
        "id": "Jjv6yJyjwRDy",
        "outputId": "a74d9e4e-01e6-4da6-d6ac-de95faa2b03d",
        "colab": {
          "base_uri": "https://localhost:8080/"
        }
      },
      "execution_count": null,
      "outputs": [
        {
          "output_type": "stream",
          "name": "stdout",
          "text": [
            "0\n",
            "\n",
            "Full:  False\n",
            "\n",
            "Elements dequeued from the queue\n",
            "a\n",
            "b\n",
            "c\n",
            "d\n",
            "\n",
            "Empty:  True\n"
          ]
        }
      ]
    }
  ]
}