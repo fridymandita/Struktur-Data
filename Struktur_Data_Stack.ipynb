{
  "nbformat": 4,
  "nbformat_minor": 0,
  "metadata": {
    "colab": {
      "name": "Struktur Data - Stack.ipynb",
      "provenance": [],
      "collapsed_sections": [],
      "authorship_tag": "ABX9TyND83W1Ndf+7jHGk8VdEBYo",
      "include_colab_link": true
    },
    "kernelspec": {
      "name": "python3",
      "display_name": "Python 3"
    },
    "language_info": {
      "name": "python"
    }
  },
  "cells": [
    {
      "cell_type": "markdown",
      "metadata": {
        "id": "view-in-github",
        "colab_type": "text"
      },
      "source": [
        "<a href=\"https://colab.research.google.com/github/fridymandita/Struktur-Data/blob/main/Struktur_Data_Stack.ipynb\" target=\"_parent\"><img src=\"https://colab.research.google.com/assets/colab-badge.svg\" alt=\"Open In Colab\"/></a>"
      ]
    },
    {
      "cell_type": "code",
      "execution_count": null,
      "metadata": {
        "colab": {
          "base_uri": "https://localhost:8080/"
        },
        "id": "gMJR1HLNGzPt",
        "outputId": "5a869855-5e99-4b41-a26a-f27e16bebb14"
      },
      "outputs": [
        {
          "output_type": "stream",
          "name": "stdout",
          "text": [
            "pushed item: 1\n",
            "pushed item: 2\n",
            "pushed item: 3\n",
            "pushed item: 4\n",
            "popped item: 4\n",
            "stack after popping an element: ['1', '2', '3']\n"
          ]
        }
      ],
      "source": [
        "# Creating a stack\n",
        "def create_stack():\n",
        "    stack = []\n",
        "    return stack\n",
        "\n",
        "# Creating an empty stack\n",
        "def check_empty(stack):\n",
        "    return len(stack) == 0\n",
        "\n",
        "\n",
        "# Adding items into the stack\n",
        "def push(stack, item):\n",
        "    stack.append(item)\n",
        "    print(\"pushed item: \" + item)\n",
        "\n",
        "\n",
        "# Removing an element from the stack\n",
        "def pop(stack):\n",
        "    if (check_empty(stack)):\n",
        "        return \"stack is empty\"\n",
        "\n",
        "    return stack.pop()\n",
        "\n",
        "\n",
        "stack = create_stack()\n",
        "push(stack, str(1))\n",
        "push(stack, str(2))\n",
        "push(stack, str(3))\n",
        "push(stack, str(4))\n",
        "print(\"popped item: \" + pop(stack))\n",
        "print(\"stack after popping an element: \" + str(stack))"
      ]
    },
    {
      "cell_type": "code",
      "source": [
        "s = []\n",
        "  \n",
        "s.append('eat')\n",
        "s.append('sleep')\n",
        "s.append('code')\n",
        "s.append('well')\n",
        "\n",
        "  \n",
        "s"
      ],
      "metadata": {
        "colab": {
          "base_uri": "https://localhost:8080/"
        },
        "id": "hWg-g_Q6G-Nm",
        "outputId": "622d7d2f-9b52-4ead-d746-24c002a6bc2f"
      },
      "execution_count": null,
      "outputs": [
        {
          "output_type": "execute_result",
          "data": {
            "text/plain": [
              "['eat', 'sleep', 'code', 'well']"
            ]
          },
          "metadata": {},
          "execution_count": 7
        }
      ]
    },
    {
      "cell_type": "code",
      "source": [
        "s.pop()"
      ],
      "metadata": {
        "colab": {
          "base_uri": "https://localhost:8080/",
          "height": 35
        },
        "id": "3vMQBSh-HCgo",
        "outputId": "b30287fe-3de1-49aa-db97-8490bf6ffbb9"
      },
      "execution_count": null,
      "outputs": [
        {
          "output_type": "execute_result",
          "data": {
            "application/vnd.google.colaboratory.intrinsic+json": {
              "type": "string"
            },
            "text/plain": [
              "'well'"
            ]
          },
          "metadata": {},
          "execution_count": 8
        }
      ]
    },
    {
      "cell_type": "code",
      "source": [
        "s.pop()"
      ],
      "metadata": {
        "colab": {
          "base_uri": "https://localhost:8080/",
          "height": 35
        },
        "id": "x4csMOGTHFtw",
        "outputId": "907230f5-2657-4258-9101-0045f1b85f0b"
      },
      "execution_count": null,
      "outputs": [
        {
          "output_type": "execute_result",
          "data": {
            "application/vnd.google.colaboratory.intrinsic+json": {
              "type": "string"
            },
            "text/plain": [
              "'code'"
            ]
          },
          "metadata": {},
          "execution_count": 9
        }
      ]
    },
    {
      "cell_type": "code",
      "source": [
        "s.pop()"
      ],
      "metadata": {
        "colab": {
          "base_uri": "https://localhost:8080/",
          "height": 35
        },
        "id": "EJH57EziHe6_",
        "outputId": "b28a02f2-30ce-458b-d80d-a739614ed81d"
      },
      "execution_count": null,
      "outputs": [
        {
          "output_type": "execute_result",
          "data": {
            "application/vnd.google.colaboratory.intrinsic+json": {
              "type": "string"
            },
            "text/plain": [
              "'sleep'"
            ]
          },
          "metadata": {},
          "execution_count": 10
        }
      ]
    },
    {
      "cell_type": "code",
      "source": [
        "s.pop()"
      ],
      "metadata": {
        "colab": {
          "base_uri": "https://localhost:8080/",
          "height": 35
        },
        "id": "oYj5syP4tdDl",
        "outputId": "c27d7e59-8dc0-4647-e396-0186b06af88b"
      },
      "execution_count": null,
      "outputs": [
        {
          "output_type": "execute_result",
          "data": {
            "application/vnd.google.colaboratory.intrinsic+json": {
              "type": "string"
            },
            "text/plain": [
              "'eat'"
            ]
          },
          "metadata": {},
          "execution_count": 11
        }
      ]
    },
    {
      "cell_type": "code",
      "source": [
        "# Python program to\n",
        "# demonstrate stack implementation\n",
        "# using list\n",
        "\n",
        "stack = []\n",
        "\n",
        "# append() function to push\n",
        "# element in the stack\n",
        "stack.append('a')\n",
        "stack.append('b')\n",
        "stack.append('c')\n",
        "\n",
        "print('Initial stack')\n",
        "print(stack)\n",
        "\n",
        "# pop() function to pop\n",
        "# element from stack in\n",
        "# LIFO order\n",
        "print('\\nElements popped from stack:')\n",
        "print(stack.pop())\n",
        "print(stack.pop())\n",
        "print(stack.pop())\n",
        "\n",
        "print('\\nStack after elements are popped:')\n",
        "print(stack)\n",
        "\n",
        "# uncommenting print(stack.pop())\n",
        "# will cause an IndexError\n",
        "# as the stack is now empty\n"
      ],
      "metadata": {
        "colab": {
          "base_uri": "https://localhost:8080/"
        },
        "id": "9zLegPRewuJe",
        "outputId": "f8597821-0fdf-4b21-c0d3-1cf124ba3186"
      },
      "execution_count": null,
      "outputs": [
        {
          "output_type": "stream",
          "name": "stdout",
          "text": [
            "Initial stack\n",
            "['a', 'b', 'c']\n",
            "\n",
            "Elements popped from stack:\n",
            "c\n",
            "b\n",
            "a\n",
            "\n",
            "Stack after elements are popped:\n",
            "[]\n"
          ]
        }
      ]
    },
    {
      "cell_type": "code",
      "source": [
        "# Python program to\n",
        "# demonstrate stack implementation\n",
        "# using queue module\n",
        "\n",
        "from queue import LifoQueue\n",
        "\n",
        "# Initializing a stack\n",
        "stack = LifoQueue(maxsize=3)\n",
        "\n",
        "# qsize() show the number of elements\n",
        "# in the stack\n",
        "print(stack.qsize())\n",
        "\n",
        "# put() function to push\n",
        "# element in the stack\n",
        "stack.put('a')\n",
        "stack.put('b')\n",
        "stack.put('c')\n",
        "\n",
        "print(\"Full: \", stack.full())\n",
        "print(\"Size: \", stack.qsize())\n",
        "\n",
        "# get() function to pop\n",
        "# element from stack in\n",
        "# LIFO order\n",
        "print('\\nElements popped from the stack')\n",
        "print(stack.get())\n",
        "print(stack.get())\n",
        "print(stack.get())\n",
        "\n",
        "print(\"\\nEmpty: \", stack.empty())\n"
      ],
      "metadata": {
        "colab": {
          "base_uri": "https://localhost:8080/"
        },
        "id": "EICzrJ6TxEXf",
        "outputId": "9b8bb6d5-a620-4ea9-e9ed-1cb1013f6e4b"
      },
      "execution_count": null,
      "outputs": [
        {
          "output_type": "stream",
          "name": "stdout",
          "text": [
            "0\n",
            "Full:  True\n",
            "Size:  3\n",
            "\n",
            "Elements popped from the stack\n",
            "c\n",
            "b\n",
            "a\n",
            "\n",
            "Empty:  True\n"
          ]
        }
      ]
    },
    {
      "cell_type": "code",
      "source": [
        "# Python program to demonstrate\n",
        "# stack implementation using a linked list.\n",
        "# node class\n",
        " \n",
        "class Node:\n",
        "    def __init__(self, value):\n",
        "        self.value = value\n",
        "        self.next = None\n",
        " \n",
        " \n",
        "class Stack:\n",
        " \n",
        "    # Initializing a stack.\n",
        "    # Use a dummy node, which is\n",
        "    # easier for handling edge cases.\n",
        "    def __init__(self):\n",
        "        self.head = Node(\"head\")\n",
        "        self.size = 0\n",
        " \n",
        "    # String representation of the stack\n",
        "    def __str__(self):\n",
        "        cur = self.head.next\n",
        "        out = \"\"\n",
        "        while cur:\n",
        "            out += str(cur.value) + \"->\"\n",
        "            cur = cur.next\n",
        "        return out[:-2]\n",
        " \n",
        "    # Get the current size of the stack\n",
        "    def getSize(self):\n",
        "        return self.size\n",
        " \n",
        "    # Check if the stack is empty\n",
        "    def isEmpty(self):\n",
        "        return self.size == 0\n",
        " \n",
        "    # Get the top item of the stack\n",
        "    def peek(self):\n",
        " \n",
        "        # Sanitary check to see if we\n",
        "        # are peeking an empty stack.\n",
        "        if self.isEmpty():\n",
        "            raise Exception(\"Peeking from an empty stack\")\n",
        "        return self.head.next.value\n",
        " \n",
        "    # Push a value into the stack.\n",
        "    def push(self, value):\n",
        "        node = Node(value)\n",
        "        node.next = self.head.next\n",
        "        self.head.next = node\n",
        "        self.size += 1\n",
        " \n",
        "    # Remove a value from the stack and return.\n",
        "    def pop(self):\n",
        "        if self.isEmpty():\n",
        "            raise Exception(\"Popping from an empty stack\")\n",
        "        remove = self.head.next\n",
        "        self.head.next = self.head.next.next\n",
        "        self.size -= 1\n",
        "        return remove.value\n",
        " \n",
        " \n",
        "# Driver Code\n",
        "if __name__ == \"__main__\":\n",
        "    stack = Stack()\n",
        "    for i in range(1, 11):\n",
        "        stack.push(i)\n",
        "    print(f\"Stack: {stack}\")\n",
        " \n",
        "    for _ in range(1, 6):\n",
        "        remove = stack.pop()\n",
        "        print(f\"Pop: {remove}\")\n",
        "    print(f\"Stack: {stack}\")"
      ],
      "metadata": {
        "colab": {
          "base_uri": "https://localhost:8080/"
        },
        "id": "HYSxBoJXxVFD",
        "outputId": "696830f1-afda-47c1-8aae-f9276154a51e"
      },
      "execution_count": null,
      "outputs": [
        {
          "output_type": "stream",
          "name": "stdout",
          "text": [
            "Stack: 10->9->8->7->6->5->4->3->2->1\n",
            "Pop: 10\n",
            "Pop: 9\n",
            "Pop: 8\n",
            "Pop: 7\n",
            "Pop: 6\n",
            "Stack: 5->4->3->2->1\n"
          ]
        }
      ]
    }
  ]
}