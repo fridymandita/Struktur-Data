{
  "nbformat": 4,
  "nbformat_minor": 0,
  "metadata": {
    "colab": {
      "name": "Struktur_Data_Rekursif.ipynb",
      "provenance": [],
      "toc_visible": true,
      "authorship_tag": "ABX9TyPNsXqe9KKOJa8SlAnWzRxi",
      "include_colab_link": true
    },
    "kernelspec": {
      "name": "python3",
      "display_name": "Python 3"
    },
    "language_info": {
      "name": "python"
    }
  },
  "cells": [
    {
      "cell_type": "markdown",
      "metadata": {
        "id": "view-in-github",
        "colab_type": "text"
      },
      "source": [
        "<a href=\"https://colab.research.google.com/github/fridymandita/Struktur-Data/blob/main/Struktur_Data_Rekursif.ipynb\" target=\"_parent\"><img src=\"https://colab.research.google.com/assets/colab-badge.svg\" alt=\"Open In Colab\"/></a>"
      ]
    },
    {
      "cell_type": "markdown",
      "source": [
        "# Factorial"
      ],
      "metadata": {
        "id": "d22mYTzwOhFb"
      }
    },
    {
      "cell_type": "code",
      "source": [
        "def factorial(a):\n",
        "   if a == 1:\n",
        "      return (a)\n",
        "   else:\n",
        "      return (a*factorial(a-1))\n",
        "\n",
        "bil = int(input(\"Input Number : \"))\n",
        "\n",
        "print(\"%d! = %d\" % (bil, factorial(bil)))"
      ],
      "metadata": {
        "colab": {
          "base_uri": "https://localhost:8080/"
        },
        "id": "zYI2ytOPOkTG",
        "outputId": "9f56040e-2819-47ad-a194-4a62de7ca0d1"
      },
      "execution_count": 4,
      "outputs": [
        {
          "output_type": "stream",
          "name": "stdout",
          "text": [
            "Input Number : 9\n",
            "9! = 362880\n"
          ]
        }
      ]
    },
    {
      "cell_type": "markdown",
      "source": [
        "# Math Rank"
      ],
      "metadata": {
        "id": "RIAv3jTxPYOf"
      }
    },
    {
      "cell_type": "code",
      "source": [
        "def rank(x,y):\n",
        "   if y == 0:\n",
        "      return 1\n",
        "   else:\n",
        "      return x * rank(x,y-1)\n",
        "\n",
        "x = int(input(\"Input Value X : \"))\n",
        "y = int(input(\"Input Value Y : \"))\n",
        "\n",
        "print(\"%d Rank %d = %d\" % (x,y,rank(x,y)))"
      ],
      "metadata": {
        "colab": {
          "base_uri": "https://localhost:8080/"
        },
        "id": "g2o_3_eaPkiB",
        "outputId": "bc2bdcbb-7ce0-4188-f738-a3472ee5fe85"
      },
      "execution_count": 5,
      "outputs": [
        {
          "output_type": "stream",
          "name": "stdout",
          "text": [
            "Input Value X : 3\n",
            "Input Value Y : 2\n",
            "3 Rank 2 = 9\n"
          ]
        }
      ]
    }
  ]
}