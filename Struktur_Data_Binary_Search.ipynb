{
  "nbformat": 4,
  "nbformat_minor": 0,
  "metadata": {
    "colab": {
      "name": "Struktur Data - Binary Search.ipynb",
      "provenance": [],
      "authorship_tag": "ABX9TyMJThqJObaVWxeZqstW1f7e",
      "include_colab_link": true
    },
    "kernelspec": {
      "name": "python3",
      "display_name": "Python 3"
    },
    "language_info": {
      "name": "python"
    }
  },
  "cells": [
    {
      "cell_type": "markdown",
      "metadata": {
        "id": "view-in-github",
        "colab_type": "text"
      },
      "source": [
        "<a href=\"https://colab.research.google.com/github/fridymandita/Struktur-Data/blob/main/Struktur_Data_Binary_Search.ipynb\" target=\"_parent\"><img src=\"https://colab.research.google.com/assets/colab-badge.svg\" alt=\"Open In Colab\"/></a>"
      ]
    },
    {
      "cell_type": "code",
      "execution_count": 2,
      "metadata": {
        "colab": {
          "base_uri": "https://localhost:8080/"
        },
        "id": "1Dq6PbcLqOuL",
        "outputId": "d61310dd-1c1d-4d23-d8c5-f9b91b473e74"
      },
      "outputs": [
        {
          "output_type": "stream",
          "name": "stdout",
          "text": [
            "Element is present at index  1\n"
          ]
        }
      ],
      "source": [
        "# Python3 Program for recursive binary search.\n",
        " \n",
        "# Returns index of x in arr if present, else -1\n",
        " \n",
        " \n",
        "def binarySearch(arr, l, r, x):\n",
        " \n",
        "    # Check base case\n",
        "    if r >= l:\n",
        " \n",
        "        mid = l + (r - l) // 2\n",
        " \n",
        "        # If element is present at the middle itself\n",
        "        if arr[mid] == x:\n",
        "            return mid\n",
        " \n",
        "        # If element is smaller than mid, then it\n",
        "        # can only be present in left subarray\n",
        "        elif arr[mid] > x:\n",
        "            return binarySearch(arr, l, mid-1, x)\n",
        " \n",
        "        # Else the element can only be present\n",
        "        # in right subarray\n",
        "        else:\n",
        "            return binarySearch(arr, mid + 1, r, x)\n",
        " \n",
        "    else:\n",
        "        # Element is not present in the array\n",
        "        return -1\n",
        " \n",
        " \n",
        "# Driver Code\n",
        "arr = [2, 3, 4, 10, 40]\n",
        "x = 3\n",
        " \n",
        "# Function call\n",
        "result = binarySearch(arr, 0, len(arr)-1, x)\n",
        " \n",
        "if result != -1:\n",
        "    print(\"Element is present at index % d\" % result)\n",
        "else:\n",
        "    print(\"Element is not present in array\")"
      ]
    },
    {
      "cell_type": "markdown",
      "source": [
        "# Iterative Method"
      ],
      "metadata": {
        "id": "oCUe7XjYvBLU"
      }
    },
    {
      "cell_type": "code",
      "source": [
        "def binarySearch(arr, k, low, high):\n",
        "   \n",
        "    while low <= high:\n",
        "        mid = low + (high - low)//2\n",
        "        if arr[mid] == k:\n",
        "            return mid\n",
        "        elif arr[mid] < k:\n",
        "\n",
        "            low = mid + 1\n",
        "        else:\n",
        "\n",
        "            high = mid - 1\n",
        "    return -1\n",
        "\n",
        "arr = [1, 3, 5, 7, 9]\n",
        "\n",
        "k = 5\n",
        "result = binarySearch(arr, k, 0, len(arr)-1)\n",
        "\n",
        "if result != -1:\n",
        "\n",
        "    print(\"Element is present at index \" + str(result))\n",
        "\n",
        "else:\n",
        "\n",
        "    print(\"Not found\")"
      ],
      "metadata": {
        "colab": {
          "base_uri": "https://localhost:8080/"
        },
        "id": "9pIC7WgfvDTQ",
        "outputId": "d666efa2-ea98-462b-85fc-165fe0af87e2"
      },
      "execution_count": 3,
      "outputs": [
        {
          "output_type": "stream",
          "name": "stdout",
          "text": [
            "Element is present at index 2\n"
          ]
        }
      ]
    },
    {
      "cell_type": "markdown",
      "source": [
        "## Recursive Method"
      ],
      "metadata": {
        "id": "KVl2kCpCvTX1"
      }
    },
    {
      "cell_type": "code",
      "source": [
        "def BinarySearch(arr, k, low, high):\n",
        "\n",
        "    if high >= low:\n",
        "\n",
        "        mid = low + (high - low)//2\n",
        "\n",
        "        if arr[mid] == k:\n",
        "            return mid\n",
        "\n",
        "        elif arr[mid] > k:\n",
        "            return BinarySearch(arr, k, low, mid-1)\n",
        "\n",
        "        else:\n",
        "            return BinarySearch(arr, k, mid + 1, high)\n",
        "\n",
        "    else:\n",
        "        return -1\n",
        "\n",
        "\n",
        "arr = [1, 3, 5, 7, 9]\n",
        "k = 5\n",
        "\n",
        "result = BinarySearch(arr, k, 0, len(arr)-1)\n",
        "\n",
        "if result != -1:\n",
        "    print(\"Element is present at index \" + str(result))\n",
        "else:\n",
        "    print(\"Not found\")"
      ],
      "metadata": {
        "colab": {
          "base_uri": "https://localhost:8080/"
        },
        "id": "VdCPgXM_vOuU",
        "outputId": "5dcfb81a-10c0-48a4-c9bb-99f0d4dc123e"
      },
      "execution_count": 4,
      "outputs": [
        {
          "output_type": "stream",
          "name": "stdout",
          "text": [
            "Element is present at index 2\n"
          ]
        }
      ]
    }
  ]
}