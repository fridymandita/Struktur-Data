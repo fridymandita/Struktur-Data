{
  "nbformat": 4,
  "nbformat_minor": 0,
  "metadata": {
    "colab": {
      "name": "Struktur Data - LinkedList.ipynb",
      "provenance": [],
      "collapsed_sections": [],
      "include_colab_link": true
    },
    "kernelspec": {
      "name": "python3",
      "display_name": "Python 3"
    }
  },
  "cells": [
    {
      "cell_type": "markdown",
      "metadata": {
        "id": "view-in-github",
        "colab_type": "text"
      },
      "source": [
        "<a href=\"https://colab.research.google.com/github/fridymandita/Struktur-Data/blob/main/Struktur_Data_LinkedList.ipynb\" target=\"_parent\"><img src=\"https://colab.research.google.com/assets/colab-badge.svg\" alt=\"Open In Colab\"/></a>"
      ]
    },
    {
      "cell_type": "markdown",
      "metadata": {
        "id": "UM845TPBKK0S"
      },
      "source": [
        "## Sorted Insert Linked List\n",
        "\n",
        "Pada dasarnya linked list tidak berbeda dengan list biasa, yang menjadi pengambilan keputusan apakah menggunakan linked list atau menggunakan list biasa (atau menggunakan struktur data yang lain) adalah berdasarkan performanya dalam menjalankan operasi yang akan berulangkali dilakukan oleh sebuah program.\n",
        "\n",
        "Di sini studi kasusnya adalah, kita diminta untuk membuat rangkaian data yang otomatis terurut ketika ada data baru diinputkan. Adapun langkah penginputan data yang secara otomatis terurut adalah sebagai berikut:\n",
        "\n",
        "- Cek apakah sudah ada data yang tersimpan atau tidak, jika belum ada maka langsung inputkan data tersebut sebagai data pertama\n",
        "- Jika sudah ada data tersimpan, cek apakah nilai yang akan diinputkan lebih kecil dari data pertama. Jika iya, maka data tersebut akan dijadikan data pertama dengan menggeser data sebelumnya ke data selanjutnya\n",
        "- Jika kedua syarat sebelumnya tidak terpenuhi, maka sebelum menginputkan data kita harus mengecek setiap node untuk memastikan data yang akan diinputkan lebih besar dari data sebelumnya dan lebih kecil dari data setelahnya "
      ]
    },
    {
      "cell_type": "code",
      "metadata": {
        "id": "H81mS5QCzV0s"
      },
      "source": [
        "class Node():\n",
        "    \n",
        "  def __init__(self, data, next_node=None):\n",
        "    self.data = data\n",
        "    self.next = next_node\n",
        "\n",
        "\n",
        "class LinkedList():\n",
        "    \n",
        "  def __init__(self):\n",
        "    self.first = None\n",
        "    self.last = None\n",
        "    self.len = 0\n",
        "\n",
        "  def first_insert(self, node):\n",
        "    self.first = node\n",
        "    self.last = node\n",
        "    self.len = 1\n",
        "      \n",
        "  def insert_head(self, node):\n",
        "    if self.len == 0:\n",
        "      self.first_insert(node)\n",
        "    else:\n",
        "      node.next = self.first\n",
        "      self.first = node\n",
        "      self.len += 1\n",
        "    return node\n",
        "\n",
        "  def insert_tail(self, node):\n",
        "    if self.len == 0:\n",
        "      self.first_insert(node)\n",
        "    else:\n",
        "      self.last.next = node\n",
        "      self.last = node\n",
        "      self.len += 1\n",
        "\n",
        "  def find_node_by_val(self, val):\n",
        "    self.current = self.first\n",
        "    while self.current is not None:\n",
        "      if self.current.val == val:\n",
        "        return self.current\n",
        "      else:\n",
        "        self.current = self.current.next\n",
        "    return None\n",
        "\n",
        "  def insert_after(self, val, node):\n",
        "    if self.find_node_by_val(val) is not None:\n",
        "      node.next = self.current.next\n",
        "      self.current.next = node\n",
        "      self.len += 1\n",
        "    else:\n",
        "      self.insert_tail(node)\n",
        "\n",
        "  def sorted_insert(self, node):\n",
        "    if self.len == 0:\n",
        "      self.insert_head(node)\n",
        "    elif self.first.data >= node.data: \n",
        "      self.insert_head(node)\n",
        "    else:\n",
        "      self.current = self.first\n",
        "      while (self.current.next is not None \n",
        "             and self.current.next.data <= node.data):\n",
        "          self.current = self.current.next\n",
        "      node.next = self.current.next\n",
        "      self.current.next = node \n",
        "      self.len += 1\n",
        "\n",
        "  def print_all(self):\n",
        "    if self.len == 0:\n",
        "      print('linked list kosong')\n",
        "    else:\n",
        "      current = self.first\n",
        "      while True:\n",
        "        print(current.data, end=\" - \")\n",
        "        if current.next == None:\n",
        "          break\n",
        "        else:\n",
        "          current = current.next\n",
        "      print(\"EOF\")\n",
        "      "
      ],
      "execution_count": null,
      "outputs": []
    },
    {
      "cell_type": "markdown",
      "metadata": {
        "id": "s8H3xD1lan1M"
      },
      "source": [
        "Untuk menguji coba koding tersebut, kita akan membuat list yang terdiri dari angka random sejumlah yang kita inginkan. Kodingnya adalah seperti di bawah ini."
      ]
    },
    {
      "cell_type": "code",
      "metadata": {
        "id": "EiLctsTh4wBb",
        "colab": {
          "base_uri": "https://localhost:8080/"
        },
        "outputId": "57ba94a1-8cc9-4e12-8d6a-f5f93ffc0470"
      },
      "source": [
        "from random import randint\n",
        "\n",
        "list_angka = [randint(1, 999) for i in range(25)]\n",
        "print(list_angka)"
      ],
      "execution_count": null,
      "outputs": [
        {
          "output_type": "stream",
          "name": "stdout",
          "text": [
            "[114, 452, 928, 814, 607, 341, 595, 16, 429, 51, 982, 314, 111, 420, 292, 724, 990, 795, 905, 144, 567, 70, 21, 206, 108]\n"
          ]
        }
      ]
    },
    {
      "cell_type": "markdown",
      "metadata": {
        "id": "2gIMlmzVa5gI"
      },
      "source": [
        "Selanjutnya kita mencoba memasukkan list angka random tersebut dan mengecek apakah benar angka yang terinput sudah terurut, kemudian kita juga mengecek berapa waktu yang diperlukan untuk mengeksekusi program tersebut."
      ]
    },
    {
      "cell_type": "code",
      "metadata": {
        "id": "EldWS1af5GTu",
        "colab": {
          "base_uri": "https://localhost:8080/"
        },
        "outputId": "cadc2f7a-4ee5-49b4-fb78-6a77aeceec1d"
      },
      "source": [
        "%%time\n",
        "ll = LinkedList()\n",
        "for angka in list_angka:\n",
        "  ll.sorted_insert(Node(angka))\n",
        "ll.print_all()"
      ],
      "execution_count": null,
      "outputs": [
        {
          "output_type": "stream",
          "name": "stdout",
          "text": [
            "16 - 21 - 51 - 70 - 108 - 111 - 114 - 144 - 206 - 292 - 314 - 341 - 420 - 429 - 452 - 567 - 595 - 607 - 724 - 795 - 814 - 905 - 928 - 982 - 990 - EOF\n",
            "CPU times: user 2.02 ms, sys: 1.03 ms, total: 3.05 ms\n",
            "Wall time: 3.06 ms\n"
          ]
        }
      ]
    },
    {
      "cell_type": "markdown",
      "metadata": {
        "id": "MGtC01NUbPuI"
      },
      "source": [
        "Sebagai pembandingnya kita membuat struktur data yang mirip dengan linked list tersebut namun dengan menggunakan list."
      ]
    },
    {
      "cell_type": "code",
      "metadata": {
        "id": "G3MvBxiZ5tag"
      },
      "source": [
        "class DataList():\n",
        "\n",
        "  def __init__(self):\n",
        "    self.data = []\n",
        "\n",
        "  def sorted_insert(self, val):\n",
        "    idx = 0\n",
        "    for adata in self.data:\n",
        "      if val < adata:\n",
        "        break\n",
        "      idx += 1\n",
        "    self.data.insert(idx, val)\n"
      ],
      "execution_count": null,
      "outputs": []
    },
    {
      "cell_type": "markdown",
      "metadata": {
        "id": "RNMqMYVtbfWR"
      },
      "source": [
        "Selanjutnya kita cek apakah semua data yang diinputkan juga sudah terurut dan juga mengecek waktu eksekusinya."
      ]
    },
    {
      "cell_type": "code",
      "metadata": {
        "id": "V-vw63hU4Vt_",
        "colab": {
          "base_uri": "https://localhost:8080/"
        },
        "outputId": "abeac6bd-353a-4321-9be4-cdf9a6c30893"
      },
      "source": [
        "%%time\n",
        "dl = DataList()\n",
        "\n",
        "for angka in list_angka:\n",
        "  dl.sorted_insert(angka)\n",
        "# print(dl.data)"
      ],
      "execution_count": null,
      "outputs": [
        {
          "output_type": "stream",
          "name": "stdout",
          "text": [
            "CPU times: user 29 µs, sys: 4 µs, total: 33 µs\n",
            "Wall time: 37.2 µs\n"
          ]
        }
      ]
    },
    {
      "cell_type": "markdown",
      "metadata": {
        "id": "knqSjT80bui-"
      },
      "source": [
        "Salah satu alasan kenapa waktu eksekusi linked list yang kita buat jauh lebih lambat dibandingkan list bawaan python adalah karena implementasi linked list kita sangat sederhana untuk mempermudah logika pengajaran, akibatnya performanya tidak optimal dibandingkan dengan yang implementasi Python yang lebih efisien.\n",
        "\n",
        "Perbandingan akan lebih fair jika kita juga menggunakan implementasi linked list yang sudah disedikan Python, yaitu `collections.deque`."
      ]
    },
    {
      "cell_type": "code",
      "metadata": {
        "id": "53jGG7KU4hjz"
      },
      "source": [
        "from collections import deque\n",
        "\n",
        "class DequeList():\n",
        "  def __init__(self):\n",
        "    self.data = deque()\n",
        "\n",
        "  def sorted_insert(self, val):\n",
        "    idx = 0\n",
        "    for adata in self.data:\n",
        "      if val < adata:\n",
        "        break\n",
        "      idx += 1\n",
        "    self.data.insert(idx, val)"
      ],
      "execution_count": null,
      "outputs": []
    },
    {
      "cell_type": "code",
      "metadata": {
        "id": "UIvCWKyO1q_j",
        "colab": {
          "base_uri": "https://localhost:8080/"
        },
        "outputId": "d145e562-7333-448f-b1be-290262c769b7"
      },
      "source": [
        "%%time\n",
        "dl = DequeList()\n",
        "\n",
        "for angka in list_angka:\n",
        "  dl.sorted_insert(angka)\n"
      ],
      "execution_count": null,
      "outputs": [
        {
          "output_type": "stream",
          "name": "stdout",
          "text": [
            "CPU times: user 44 µs, sys: 7 µs, total: 51 µs\n",
            "Wall time: 56.5 µs\n"
          ]
        }
      ]
    },
    {
      "cell_type": "markdown",
      "metadata": {
        "id": "6FZDH9Q39z7h"
      },
      "source": [
        "## Double LinkedList"
      ]
    },
    {
      "cell_type": "code",
      "metadata": {
        "id": "ozqg7E-d9zBS"
      },
      "source": [
        "class Node:\n",
        "    def __init__(self, data):\n",
        "        self.item = data\n",
        "        self.next = None\n",
        "        self.prev = None\n",
        "\n",
        "class DoublyLinkedList:\n",
        "    def __init__(self):\n",
        "        self.start_node = None\n",
        "\n",
        "    def insert_in_emptylist(self, data):\n",
        "        if self.start_node is None:\n",
        "            new_node = Node(data)\n",
        "            self.start_node = new_node\n",
        "        else:\n",
        "            print(\"list is not empty\")\n",
        "\n",
        "    def fungsi_xyz(self, current=None):\n",
        "        if current == None:\n",
        "            current = self.start_node\n",
        "        \n",
        "        if current.next is not None:\n",
        "            self.fungsi_xyz(current.next)\n",
        "        print(current.item)\n",
        "    \n",
        "    def insert_at_start(self, data):\n",
        "        if self.start_node is None:\n",
        "            new_node = Node(data)\n",
        "            self.start_node = new_node\n",
        "            print(\"node inserted\")\n",
        "            return\n",
        "        new_node = Node(data)\n",
        "        new_node.next = self.start_node\n",
        "        self.start_node.prev = new_node\n",
        "        self.start_node = new_node\n",
        "\n",
        "    def insert_at_end(self, data):\n",
        "        if self.start_node is None:\n",
        "            new_node = Node(data)\n",
        "            self.start_node = new_node\n",
        "            return\n",
        "        n = self.start_node\n",
        "        while n.next is not None:\n",
        "            n = n.next\n",
        "        new_node = Node(data)\n",
        "        n.next = new_node\n",
        "        new_node.prev = n\n",
        "\n",
        "    def insert_after_item(self, x, data):\n",
        "        if self.start_node is None:\n",
        "            print(\"List is empty\")\n",
        "            return\n",
        "        else:\n",
        "            n = self.start_node\n",
        "            while n is not None:\n",
        "                if n.item == x:\n",
        "                    break\n",
        "                n = n.next\n",
        "            if n is None:\n",
        "                print(\"item not in the list\")\n",
        "            else:\n",
        "                new_node = Node(data)\n",
        "                new_node.prev = n\n",
        "                new_node.next = n.next\n",
        "                if n.next is not None:\n",
        "                    n.next.prev = new_node\n",
        "                n.next = new_node\n",
        "\n",
        "    def insert_before_item(self, x, data):\n",
        "        if self.start_node is None:\n",
        "            print(\"List is empty\")\n",
        "            return\n",
        "        else:\n",
        "            n = self.start_node\n",
        "            while n is not None:\n",
        "                if n.item == x:\n",
        "                    break\n",
        "                n = n.next\n",
        "            if n is None:\n",
        "                print(\"item not in the list\")\n",
        "            else:\n",
        "                new_node = Node(data)\n",
        "                new_node.next = n\n",
        "                new_node.prev = n.prev\n",
        "                if n.prev is not None:\n",
        "                    n.prev.next = new_node\n",
        "                n.prev = new_node\n",
        "\n",
        "    def traverse_list(self):\n",
        "        if self.start_node is None:\n",
        "            print(\"List has no element\")\n",
        "            return\n",
        "        else:\n",
        "            n = self.start_node\n",
        "            while n is not None:\n",
        "                print(n.item , end=\" - \")\n",
        "                n = n.next\n",
        "            print()\n",
        "\n",
        "    def delete_at_start(self):\n",
        "        if self.start_node is None:\n",
        "            print(\"The list has no element to delete\")\n",
        "            return \n",
        "        if self.start_node.next is None:\n",
        "            self.start_node = None\n",
        "            return\n",
        "        self.start_node = self.start_node.next\n",
        "        self.start_prev = None\n",
        "\n",
        "    def delete_at_end(self):\n",
        "        if self.start_node is None:\n",
        "            print(\"The list has no element to delete\")\n",
        "            return \n",
        "        if self.start_node.next is None:\n",
        "            self.start_node = None\n",
        "            return\n",
        "        n = self.start_node\n",
        "        while n.next is not None:\n",
        "            n = n.next\n",
        "        n.prev.next = None\n",
        "\n",
        "    def delete_element_by_value(self, x):\n",
        "        if self.start_node is None:\n",
        "            print(\"The list has no element to delete\")\n",
        "            return \n",
        "        if self.start_node.next is None:\n",
        "            if self.start_node.item == x:\n",
        "                self.start_node = None\n",
        "            else:\n",
        "                print(\"Item not found\")\n",
        "            return \n",
        "\n",
        "        if self.start_node.item == x:\n",
        "            self.start_node = self.start_node.next\n",
        "            self.start_node.prev = None\n",
        "            return\n",
        "\n",
        "        n = self.start_node\n",
        "        while n.next is not None:\n",
        "            if n.item == x:\n",
        "                break;\n",
        "            n = n.next\n",
        "        if n.next is not None:\n",
        "            n.prev.next = n.next\n",
        "            n.next.prev = n.prev\n",
        "        else:\n",
        "            if n.item == x:\n",
        "                n.prev.next = None\n",
        "            else:\n",
        "                print(\"Element not found\")"
      ],
      "execution_count": null,
      "outputs": []
    },
    {
      "cell_type": "code",
      "metadata": {
        "colab": {
          "base_uri": "https://localhost:8080/"
        },
        "id": "ra3cv9Qy-olv",
        "outputId": "748fa95b-d719-4859-f78c-c7bc60cae775"
      },
      "source": [
        "new_linked_list = DoublyLinkedList()\n",
        "new_linked_list.insert_in_emptylist(50)\n",
        "new_linked_list.insert_at_start(10)\n",
        "new_linked_list.insert_at_start(5)\n",
        "new_linked_list.insert_at_start(18)\n",
        "new_linked_list.insert_at_end(29)\n",
        "new_linked_list.insert_at_end(65)\n",
        "new_linked_list.insert_at_end(49)\n",
        "new_linked_list.insert_after_item(50, 65)\n",
        "new_linked_list.insert_before_item(29, 100)\n",
        "new_linked_list.delete_at_start()\n",
        "new_linked_list.delete_at_end()\n",
        "new_linked_list.delete_element_by_value(65)\n",
        "new_linked_list.traverse_list()\n",
        "new_linked_list.fungsi_xyz()"
      ],
      "execution_count": null,
      "outputs": [
        {
          "output_type": "stream",
          "name": "stdout",
          "text": [
            "5 - 10 - 50 - 100 - 29 - 65 - \n",
            "65\n",
            "29\n",
            "100\n",
            "50\n",
            "10\n",
            "5\n"
          ]
        }
      ]
    },
    {
      "cell_type": "code",
      "metadata": {
        "id": "Wvep7Ll2-5BS"
      },
      "source": [
        "class Node:\n",
        "    def __init__(self, data):\n",
        "        self.item = data\n",
        "        self.next = None\n",
        "        self.prev = None\n",
        "\n",
        "class DoublyLinkedList:\n",
        "    def __init__(self):\n",
        "        self.start_node = None\n",
        "\n",
        "    def insert_in_emptylist(self, data):\n",
        "        if self.start_node is None:\n",
        "            new_node = Node(data)\n",
        "            self.start_node = new_node\n",
        "        else:\n",
        "            print(\"list is not empty\")\n",
        "\n",
        "    def insert_at_end(self, data):\n",
        "        if self.start_node is None:\n",
        "            new_node = Node(data)\n",
        "            self.start_node = new_node\n",
        "            return\n",
        "        n = self.start_node\n",
        "        while n.next is not None:\n",
        "            n = n.next\n",
        "        new_node = Node(data)\n",
        "        n.next = new_node\n",
        "        new_node.prev = n\n",
        "\n",
        "    def delete_at_end(self):\n",
        "        if self.start_node is None:\n",
        "            print(\"The list has no element to delete\")\n",
        "            return \n",
        "        if self.start_node.next is None:\n",
        "            self.start_node = None\n",
        "            return\n",
        "        n = self.start_node\n",
        "        while n.next is not None:\n",
        "            n = n.next\n",
        "        n.prev.next = None"
      ],
      "execution_count": null,
      "outputs": []
    },
    {
      "cell_type": "code",
      "source": [
        "new_linked_list = DoublyLinkedList()\n",
        "new_linked_list.insert_in_emptylist(50)\n",
        "new_linked_list.insert_at_start(100)\n",
        "new_linked_list.insert_at_start(50)\n",
        "new_linked_list.insert_at_start(180)\n",
        "new_linked_list.insert_at_end(290)\n",
        "new_linked_list.insert_at_end(650)\n",
        "new_linked_list.insert_at_end(490)\n",
        "new_linked_list.insert_after_item(500, 650)\n",
        "new_linked_list.insert_before_item(290, 1000)\n",
        "new_linked_list.delete_at_start()\n",
        "new_linked_list.delete_at_end()\n",
        "new_linked_list.delete_element_by_value(65)\n",
        "new_linked_list.traverse_list()\n",
        "new_linked_list.fungsi_xyz()"
      ],
      "metadata": {
        "colab": {
          "base_uri": "https://localhost:8080/"
        },
        "id": "LMBobgr9k_V2",
        "outputId": "e92feb6f-9c85-4386-ebc8-074abdecaeab"
      },
      "execution_count": null,
      "outputs": [
        {
          "output_type": "stream",
          "name": "stdout",
          "text": [
            "5 - 10 - 50 - 100 - 29 - 65 - \n",
            "65\n",
            "29\n",
            "100\n",
            "50\n",
            "10\n",
            "5\n"
          ]
        }
      ]
    }
  ]
}