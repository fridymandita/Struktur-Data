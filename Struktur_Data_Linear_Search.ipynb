{
  "nbformat": 4,
  "nbformat_minor": 0,
  "metadata": {
    "colab": {
      "name": "Struktur Data - Linear Search.ipynb",
      "provenance": [],
      "authorship_tag": "ABX9TyMMHzB2HIQFmhN/CGYtlM5N",
      "include_colab_link": true
    },
    "kernelspec": {
      "name": "python3",
      "display_name": "Python 3"
    },
    "language_info": {
      "name": "python"
    }
  },
  "cells": [
    {
      "cell_type": "markdown",
      "metadata": {
        "id": "view-in-github",
        "colab_type": "text"
      },
      "source": [
        "<a href=\"https://colab.research.google.com/github/fridymandita/Struktur-Data/blob/main/Struktur_Data_Linear_Search.ipynb\" target=\"_parent\"><img src=\"https://colab.research.google.com/assets/colab-badge.svg\" alt=\"Open In Colab\"/></a>"
      ]
    },
    {
      "cell_type": "code",
      "execution_count": 3,
      "metadata": {
        "colab": {
          "base_uri": "https://localhost:8080/"
        },
        "id": "2Mtzwo9An-Wm",
        "outputId": "4b5c6412-aa33-45a8-8976-f131485d80f7"
      },
      "outputs": [
        {
          "output_type": "stream",
          "name": "stdout",
          "text": [
            "Element is present at index 1\n"
          ]
        }
      ],
      "source": [
        "# Python3 code to linearly search x in arr[].\n",
        "# If x is present then return its location,\n",
        "# otherwise return -1\n",
        " \n",
        " \n",
        "def search(arr, n, x):\n",
        " \n",
        "    for i in range(0, n):\n",
        "        if (arr[i] == x):\n",
        "            return i\n",
        "    return -1\n",
        " \n",
        " \n",
        "# Driver Code\n",
        "arr = [2, 3, 4, 10, 40]\n",
        "x = 3\n",
        "n = len(arr)\n",
        "\n",
        "# Function call\n",
        "result = search(arr, n, x)\n",
        "if(result == -1):\n",
        "    print(\"Element is not present in array\")\n",
        "else:\n",
        "    print(\"Element is present at index\", result)"
      ]
    },
    {
      "cell_type": "code",
      "source": [
        "def LinearSearch(array, n, k):\n",
        "\n",
        "    for j in range(0, n):\n",
        "\n",
        "        if (array[j] == k):\n",
        "\n",
        "            return j\n",
        "\n",
        "    return -1\n",
        "\n",
        " \n",
        "array = [1, 3, 5, 7, 9]\n",
        "\n",
        "k = 7\n",
        "n = len(array)\n",
        "\n",
        "result = LinearSearch(array, n, k)\n",
        "\n",
        "if(result == -1):\n",
        "\n",
        "    print(\"Element not found\")\n",
        "\n",
        "else:\n",
        "\n",
        "    print(\"Element found at index: \", result)"
      ],
      "metadata": {
        "colab": {
          "base_uri": "https://localhost:8080/"
        },
        "id": "s0xJfa7doy2r",
        "outputId": "bbc8b7d8-5218-4ee6-9886-5444fada75df"
      },
      "execution_count": 2,
      "outputs": [
        {
          "output_type": "stream",
          "name": "stdout",
          "text": [
            "Element found at index:  3\n"
          ]
        }
      ]
    }
  ]
}