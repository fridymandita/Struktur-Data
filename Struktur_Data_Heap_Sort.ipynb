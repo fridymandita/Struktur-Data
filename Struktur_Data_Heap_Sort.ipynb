{
  "nbformat": 4,
  "nbformat_minor": 0,
  "metadata": {
    "colab": {
      "name": "Struktur_Data_Heap_Sort.ipynb",
      "provenance": [],
      "toc_visible": true,
      "authorship_tag": "ABX9TyOobD4ll66DHZ4bVmXb7IH4",
      "include_colab_link": true
    },
    "kernelspec": {
      "name": "python3",
      "display_name": "Python 3"
    },
    "language_info": {
      "name": "python"
    }
  },
  "cells": [
    {
      "cell_type": "markdown",
      "metadata": {
        "id": "view-in-github",
        "colab_type": "text"
      },
      "source": [
        "<a href=\"https://colab.research.google.com/github/fridymandita/Struktur-Data/blob/main/Struktur_Data_Heap_Sort.ipynb\" target=\"_parent\"><img src=\"https://colab.research.google.com/assets/colab-badge.svg\" alt=\"Open In Colab\"/></a>"
      ]
    },
    {
      "cell_type": "markdown",
      "source": [
        "# Heap Sort"
      ],
      "metadata": {
        "id": "ZFgYE3qoWuNB"
      }
    },
    {
      "cell_type": "code",
      "source": [
        "!curl -s -o setup.sh https://raw.githubusercontent.com/tproffen/ORCSGirlsPython/master/Algorithms/Helpers/setup_activity2.sh\n",
        "!bash setup.sh"
      ],
      "metadata": {
        "colab": {
          "base_uri": "https://localhost:8080/"
        },
        "id": "ZNx_rG1OXSBu",
        "outputId": "a4e590e7-4973-4cc1-d999-de04ebd1a48a"
      },
      "execution_count": 1,
      "outputs": [
        {
          "output_type": "stream",
          "name": "stdout",
          "text": [
            "Fetching needed files ..\n",
            "Done\n"
          ]
        }
      ]
    },
    {
      "cell_type": "code",
      "source": [
        "%matplotlib inline\n",
        "import numpy as np\n",
        "from Helpers.helpers import *"
      ],
      "metadata": {
        "id": "zrljglhEXU56"
      },
      "execution_count": 2,
      "outputs": []
    },
    {
      "cell_type": "markdown",
      "source": [
        "## Data"
      ],
      "metadata": {
        "id": "SKwRlaKHXXBR"
      }
    },
    {
      "cell_type": "code",
      "source": [
        "data=[29,99,27,41,66,28,44,78,87,19,31,76,58,88,83,97,12,21,44]\n",
        "\n",
        "print (\"Data: \",data)"
      ],
      "metadata": {
        "colab": {
          "base_uri": "https://localhost:8080/"
        },
        "id": "mw6wuBCjXYWK",
        "outputId": "ab4fe65d-99df-468c-a793-24209623e9df"
      },
      "execution_count": 23,
      "outputs": [
        {
          "output_type": "stream",
          "name": "stdout",
          "text": [
            "Data:  [29, 99, 27, 41, 66, 28, 44, 78, 87, 19, 31, 76, 58, 88, 83, 97, 12, 21, 44]\n"
          ]
        }
      ]
    },
    {
      "cell_type": "code",
      "source": [
        "updateGraph(1,data)"
      ],
      "metadata": {
        "colab": {
          "base_uri": "https://localhost:8080/",
          "height": 375
        },
        "id": "hl-DehMuXbyD",
        "outputId": "bfaf9be2-410a-44e4-d86e-b7f7e59e5c9c"
      },
      "execution_count": 24,
      "outputs": [
        {
          "output_type": "display_data",
          "data": {
            "text/plain": [
              "<Figure size 864x432 with 1 Axes>"
            ],
            "image/png": "[encoded data removed]"
          },
          "metadata": {
            "needs_background": "light"
          }
        }
      ]
    },
    {
      "cell_type": "code",
      "source": [
        "# Python program for implementation of heap Sort\n",
        "\n",
        "# To heapify subtree rooted at index i.\n",
        "# n is size of heap\n",
        "\n",
        "def heapify(data, n, i):\n",
        "\tlargest = i # Initialize largest as root\n",
        "\tl = 2 * i + 1\t # left = 2*i + 1\n",
        "\tr = 2 * i + 2\t # right = 2*i + 2\n",
        "\n",
        "\t# See if left child of root exists and is\n",
        "\t# greater than root\n",
        "\tif l < n and data [largest] < data[l]:\n",
        "\t\tlargest = l\n",
        "\n",
        "\t# See if right child of root exists and is\n",
        "\t# greater than root\n",
        "\tif r < n and data[largest] < data[r]:\n",
        "\t\tlargest = r\n",
        "\n",
        "\t# Change root, if needed\n",
        "\tif largest != i:\n",
        "\t\tdata[i], data[largest] = data[largest], data[i] # swap\n",
        "\n",
        "\t\t# Heapify the root.\n",
        "\t\theapify(data, n, largest)"
      ],
      "metadata": {
        "id": "1heN2-lGXj3b"
      },
      "execution_count": 25,
      "outputs": []
    },
    {
      "cell_type": "code",
      "source": [
        "# The main function to sort an array of given size\n",
        "def heapSort(data):\n",
        "\tn = len(data)\n",
        "\n",
        "\t# Build a maxheap.\n",
        "\tfor i in range(n//2 - 1, -1, -1):\n",
        "\t\theapify(data, n, i)\n",
        "\n",
        "\t# One by one extract elements\n",
        "\tfor i in range(n-1, 0, -1):\n",
        "\t\tdata[i], data[0] = data[0], data[i] # swap\n",
        "\t\theapify(data, i, 0)\n"
      ],
      "metadata": {
        "id": "PgW2_WG3ZZ6A"
      },
      "execution_count": 36,
      "outputs": []
    },
    {
      "cell_type": "code",
      "source": [
        "# Driver code\n",
        "heapSort(data)\n",
        "n = len(data)\n",
        "for i in range(n):\n",
        "\tprint(\"[%d\" % data[i],end=\"]\")\n",
        "\n"
      ],
      "metadata": {
        "colab": {
          "base_uri": "https://localhost:8080/"
        },
        "id": "M3v1qehMZ0mM",
        "outputId": "0862165b-837a-4512-e6ab-2ec18cb481e8"
      },
      "execution_count": 41,
      "outputs": [
        {
          "output_type": "stream",
          "name": "stdout",
          "text": [
            "[12][19][21][27][28][29][31][41][44][44][58][66][76][78][83][87][88][97][99]"
          ]
        }
      ]
    }
  ]
}